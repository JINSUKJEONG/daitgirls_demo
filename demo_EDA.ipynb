{
 "cells": [
  {
   "cell_type": "code",
   "execution_count": 36,
   "id": "57507663",
   "metadata": {},
   "outputs": [],
   "source": [
    "import pandas as pd\n",
    "import numpy as np"
   ]
  },
  {
   "cell_type": "code",
   "execution_count": 76,
   "id": "fb622260",
   "metadata": {},
   "outputs": [],
   "source": [
    "index = pd.read_excel(\"normal.xlsx\", engine = 'openpyxl')"
   ]
  },
  {
   "cell_type": "code",
   "execution_count": 77,
   "id": "b9398381",
   "metadata": {},
   "outputs": [
    {
     "data": {
      "text/html": [
       "<div>\n",
       "<style scoped>\n",
       "    .dataframe tbody tr th:only-of-type {\n",
       "        vertical-align: middle;\n",
       "    }\n",
       "\n",
       "    .dataframe tbody tr th {\n",
       "        vertical-align: top;\n",
       "    }\n",
       "\n",
       "    .dataframe thead th {\n",
       "        text-align: right;\n",
       "    }\n",
       "</style>\n",
       "<table border=\"1\" class=\"dataframe\">\n",
       "  <thead>\n",
       "    <tr style=\"text-align: right;\">\n",
       "      <th></th>\n",
       "      <th>Unnamed: 0</th>\n",
       "      <th>시도코드</th>\n",
       "      <th>시도명칭</th>\n",
       "      <th>시군구코드</th>\n",
       "      <th>시군구명칭2</th>\n",
       "      <th>확진자수</th>\n",
       "      <th>시가지면적 대비 방문객 수 정규화</th>\n",
       "      <th>전체 식당대비 안심식당 수 정규화</th>\n",
       "      <th>교통안전성</th>\n",
       "      <th>숙박안전성</th>\n",
       "      <th>자연관광지 정규화</th>\n",
       "      <th>방법2 지수</th>\n",
       "    </tr>\n",
       "  </thead>\n",
       "  <tbody>\n",
       "    <tr>\n",
       "      <th>0</th>\n",
       "      <td>0</td>\n",
       "      <td>11</td>\n",
       "      <td>서울특별시</td>\n",
       "      <td>11010</td>\n",
       "      <td>종로구</td>\n",
       "      <td>0.561973</td>\n",
       "      <td>0.535179</td>\n",
       "      <td>0.072467</td>\n",
       "      <td>0.154472</td>\n",
       "      <td>0.27853</td>\n",
       "      <td>0.246234</td>\n",
       "      <td>7.654550</td>\n",
       "    </tr>\n",
       "    <tr>\n",
       "      <th>1</th>\n",
       "      <td>1</td>\n",
       "      <td>11</td>\n",
       "      <td>서울특별시</td>\n",
       "      <td>11020</td>\n",
       "      <td>중구</td>\n",
       "      <td>1.000000</td>\n",
       "      <td>0.689380</td>\n",
       "      <td>0.000879</td>\n",
       "      <td>0.195122</td>\n",
       "      <td>0.55268</td>\n",
       "      <td>0.000000</td>\n",
       "      <td>7.059300</td>\n",
       "    </tr>\n",
       "    <tr>\n",
       "      <th>2</th>\n",
       "      <td>2</td>\n",
       "      <td>11</td>\n",
       "      <td>서울특별시</td>\n",
       "      <td>11030</td>\n",
       "      <td>용산구</td>\n",
       "      <td>0.450761</td>\n",
       "      <td>0.398645</td>\n",
       "      <td>0.058183</td>\n",
       "      <td>0.186992</td>\n",
       "      <td>0.36017</td>\n",
       "      <td>0.000000</td>\n",
       "      <td>7.755940</td>\n",
       "    </tr>\n",
       "    <tr>\n",
       "      <th>3</th>\n",
       "      <td>3</td>\n",
       "      <td>11</td>\n",
       "      <td>서울특별시</td>\n",
       "      <td>11040</td>\n",
       "      <td>성동구</td>\n",
       "      <td>0.338809</td>\n",
       "      <td>0.259935</td>\n",
       "      <td>0.000000</td>\n",
       "      <td>0.463415</td>\n",
       "      <td>0.15575</td>\n",
       "      <td>0.000000</td>\n",
       "      <td>8.020420</td>\n",
       "    </tr>\n",
       "    <tr>\n",
       "      <th>4</th>\n",
       "      <td>4</td>\n",
       "      <td>11</td>\n",
       "      <td>서울특별시</td>\n",
       "      <td>11050</td>\n",
       "      <td>광진구</td>\n",
       "      <td>0.373741</td>\n",
       "      <td>0.327115</td>\n",
       "      <td>0.103948</td>\n",
       "      <td>0.227642</td>\n",
       "      <td>0.31577</td>\n",
       "      <td>0.000000</td>\n",
       "      <td>7.946505</td>\n",
       "    </tr>\n",
       "  </tbody>\n",
       "</table>\n",
       "</div>"
      ],
      "text/plain": [
       "   Unnamed: 0  시도코드   시도명칭  시군구코드 시군구명칭2      확진자수  시가지면적 대비 방문객 수 정규화  \\\n",
       "0           0    11  서울특별시  11010    종로구  0.561973            0.535179   \n",
       "1           1    11  서울특별시  11020     중구  1.000000            0.689380   \n",
       "2           2    11  서울특별시  11030    용산구  0.450761            0.398645   \n",
       "3           3    11  서울특별시  11040    성동구  0.338809            0.259935   \n",
       "4           4    11  서울특별시  11050    광진구  0.373741            0.327115   \n",
       "\n",
       "   전체 식당대비 안심식당 수 정규화     교통안전성    숙박안전성  자연관광지 정규화    방법2 지수  \n",
       "0            0.072467  0.154472  0.27853   0.246234  7.654550  \n",
       "1            0.000879  0.195122  0.55268   0.000000  7.059300  \n",
       "2            0.058183  0.186992  0.36017   0.000000  7.755940  \n",
       "3            0.000000  0.463415  0.15575   0.000000  8.020420  \n",
       "4            0.103948  0.227642  0.31577   0.000000  7.946505  "
      ]
     },
     "execution_count": 77,
     "metadata": {},
     "output_type": "execute_result"
    }
   ],
   "source": [
    "index.head()\n"
   ]
  },
  {
   "cell_type": "code",
   "execution_count": 78,
   "id": "2f263696",
   "metadata": {},
   "outputs": [
    {
     "data": {
      "text/plain": [
       "Unnamed: 0                   0\n",
       "시도코드                        11\n",
       "시도명칭                     서울특별시\n",
       "시군구코드                    11010\n",
       "시군구명칭2                     종로구\n",
       "확진자수                  0.561973\n",
       "시가지면적 대비 방문객 수 정규화    0.535179\n",
       "전체 식당대비 안심식당 수 정규화    0.072467\n",
       "교통안전성                 0.154472\n",
       "숙박안전성                  0.27853\n",
       "자연관광지 정규화             0.246234\n",
       "방법2 지수                 7.65455\n",
       "Name: 0, dtype: object"
      ]
     },
     "execution_count": 78,
     "metadata": {},
     "output_type": "execute_result"
    }
   ],
   "source": [
    "index.iloc[0,]"
   ]
  },
  {
   "cell_type": "code",
   "execution_count": 79,
   "id": "23fd57d5",
   "metadata": {},
   "outputs": [],
   "source": [
    "index = index.drop(columns = 'Unnamed: 0')\n",
    "\n",
    "index.rename(columns = {'확진자수':'corona_i', '시가지면적 대비 방문객 수 정규화':'visitors_i',\n",
    "                         '전체 식당대비 안심식당 수 정규화':'rest_i', '교통안전성':'trans_i', '숙박안전성':'accom_i',\n",
    "                        '자연관광지 정규화':'outdoor_i', '방법2 지수':'index'}, inplace = True)"
   ]
  },
  {
   "cell_type": "code",
   "execution_count": 80,
   "id": "bc9f3161",
   "metadata": {},
   "outputs": [
    {
     "data": {
      "text/html": [
       "<div>\n",
       "<style scoped>\n",
       "    .dataframe tbody tr th:only-of-type {\n",
       "        vertical-align: middle;\n",
       "    }\n",
       "\n",
       "    .dataframe tbody tr th {\n",
       "        vertical-align: top;\n",
       "    }\n",
       "\n",
       "    .dataframe thead th {\n",
       "        text-align: right;\n",
       "    }\n",
       "</style>\n",
       "<table border=\"1\" class=\"dataframe\">\n",
       "  <thead>\n",
       "    <tr style=\"text-align: right;\">\n",
       "      <th></th>\n",
       "      <th>시도코드</th>\n",
       "      <th>시도명칭</th>\n",
       "      <th>시군구코드</th>\n",
       "      <th>시군구명칭2</th>\n",
       "      <th>corona_i</th>\n",
       "      <th>visitors_i</th>\n",
       "      <th>rest_i</th>\n",
       "      <th>trans_i</th>\n",
       "      <th>accom_i</th>\n",
       "      <th>outdoor_i</th>\n",
       "      <th>index</th>\n",
       "    </tr>\n",
       "  </thead>\n",
       "  <tbody>\n",
       "    <tr>\n",
       "      <th>0</th>\n",
       "      <td>11</td>\n",
       "      <td>서울특별시</td>\n",
       "      <td>11010</td>\n",
       "      <td>종로구</td>\n",
       "      <td>0.561973</td>\n",
       "      <td>0.535179</td>\n",
       "      <td>0.072467</td>\n",
       "      <td>0.154472</td>\n",
       "      <td>0.27853</td>\n",
       "      <td>0.246234</td>\n",
       "      <td>7.654550</td>\n",
       "    </tr>\n",
       "    <tr>\n",
       "      <th>1</th>\n",
       "      <td>11</td>\n",
       "      <td>서울특별시</td>\n",
       "      <td>11020</td>\n",
       "      <td>중구</td>\n",
       "      <td>1.000000</td>\n",
       "      <td>0.689380</td>\n",
       "      <td>0.000879</td>\n",
       "      <td>0.195122</td>\n",
       "      <td>0.55268</td>\n",
       "      <td>0.000000</td>\n",
       "      <td>7.059300</td>\n",
       "    </tr>\n",
       "    <tr>\n",
       "      <th>2</th>\n",
       "      <td>11</td>\n",
       "      <td>서울특별시</td>\n",
       "      <td>11030</td>\n",
       "      <td>용산구</td>\n",
       "      <td>0.450761</td>\n",
       "      <td>0.398645</td>\n",
       "      <td>0.058183</td>\n",
       "      <td>0.186992</td>\n",
       "      <td>0.36017</td>\n",
       "      <td>0.000000</td>\n",
       "      <td>7.755940</td>\n",
       "    </tr>\n",
       "    <tr>\n",
       "      <th>3</th>\n",
       "      <td>11</td>\n",
       "      <td>서울특별시</td>\n",
       "      <td>11040</td>\n",
       "      <td>성동구</td>\n",
       "      <td>0.338809</td>\n",
       "      <td>0.259935</td>\n",
       "      <td>0.000000</td>\n",
       "      <td>0.463415</td>\n",
       "      <td>0.15575</td>\n",
       "      <td>0.000000</td>\n",
       "      <td>8.020420</td>\n",
       "    </tr>\n",
       "    <tr>\n",
       "      <th>4</th>\n",
       "      <td>11</td>\n",
       "      <td>서울특별시</td>\n",
       "      <td>11050</td>\n",
       "      <td>광진구</td>\n",
       "      <td>0.373741</td>\n",
       "      <td>0.327115</td>\n",
       "      <td>0.103948</td>\n",
       "      <td>0.227642</td>\n",
       "      <td>0.31577</td>\n",
       "      <td>0.000000</td>\n",
       "      <td>7.946505</td>\n",
       "    </tr>\n",
       "  </tbody>\n",
       "</table>\n",
       "</div>"
      ],
      "text/plain": [
       "   시도코드   시도명칭  시군구코드 시군구명칭2  corona_i  visitors_i    rest_i   trans_i  \\\n",
       "0    11  서울특별시  11010    종로구  0.561973    0.535179  0.072467  0.154472   \n",
       "1    11  서울특별시  11020     중구  1.000000    0.689380  0.000879  0.195122   \n",
       "2    11  서울특별시  11030    용산구  0.450761    0.398645  0.058183  0.186992   \n",
       "3    11  서울특별시  11040    성동구  0.338809    0.259935  0.000000  0.463415   \n",
       "4    11  서울특별시  11050    광진구  0.373741    0.327115  0.103948  0.227642   \n",
       "\n",
       "   accom_i  outdoor_i     index  \n",
       "0  0.27853   0.246234  7.654550  \n",
       "1  0.55268   0.000000  7.059300  \n",
       "2  0.36017   0.000000  7.755940  \n",
       "3  0.15575   0.000000  8.020420  \n",
       "4  0.31577   0.000000  7.946505  "
      ]
     },
     "execution_count": 80,
     "metadata": {},
     "output_type": "execute_result"
    }
   ],
   "source": [
    "index.head()"
   ]
  },
  {
   "cell_type": "code",
   "execution_count": 83,
   "id": "b4ae66ca",
   "metadata": {},
   "outputs": [],
   "source": [
    "index_sta = index.iloc[:, 4:10]"
   ]
  },
  {
   "cell_type": "code",
   "execution_count": 82,
   "id": "ac5f3aec",
   "metadata": {},
   "outputs": [
    {
     "data": {
      "text/html": [
       "<div>\n",
       "<style scoped>\n",
       "    .dataframe tbody tr th:only-of-type {\n",
       "        vertical-align: middle;\n",
       "    }\n",
       "\n",
       "    .dataframe tbody tr th {\n",
       "        vertical-align: top;\n",
       "    }\n",
       "\n",
       "    .dataframe thead th {\n",
       "        text-align: right;\n",
       "    }\n",
       "</style>\n",
       "<table border=\"1\" class=\"dataframe\">\n",
       "  <thead>\n",
       "    <tr style=\"text-align: right;\">\n",
       "      <th></th>\n",
       "      <th>corona_i</th>\n",
       "      <th>visitors_i</th>\n",
       "      <th>rest_i</th>\n",
       "      <th>trans_i</th>\n",
       "      <th>accom_i</th>\n",
       "      <th>outdoor_i</th>\n",
       "    </tr>\n",
       "  </thead>\n",
       "  <tbody>\n",
       "    <tr>\n",
       "      <th>0</th>\n",
       "      <td>0.561973</td>\n",
       "      <td>0.535179</td>\n",
       "      <td>0.072467</td>\n",
       "      <td>0.154472</td>\n",
       "      <td>0.27853</td>\n",
       "      <td>0.246234</td>\n",
       "    </tr>\n",
       "    <tr>\n",
       "      <th>1</th>\n",
       "      <td>1.000000</td>\n",
       "      <td>0.689380</td>\n",
       "      <td>0.000879</td>\n",
       "      <td>0.195122</td>\n",
       "      <td>0.55268</td>\n",
       "      <td>0.000000</td>\n",
       "    </tr>\n",
       "    <tr>\n",
       "      <th>2</th>\n",
       "      <td>0.450761</td>\n",
       "      <td>0.398645</td>\n",
       "      <td>0.058183</td>\n",
       "      <td>0.186992</td>\n",
       "      <td>0.36017</td>\n",
       "      <td>0.000000</td>\n",
       "    </tr>\n",
       "    <tr>\n",
       "      <th>3</th>\n",
       "      <td>0.338809</td>\n",
       "      <td>0.259935</td>\n",
       "      <td>0.000000</td>\n",
       "      <td>0.463415</td>\n",
       "      <td>0.15575</td>\n",
       "      <td>0.000000</td>\n",
       "    </tr>\n",
       "    <tr>\n",
       "      <th>4</th>\n",
       "      <td>0.373741</td>\n",
       "      <td>0.327115</td>\n",
       "      <td>0.103948</td>\n",
       "      <td>0.227642</td>\n",
       "      <td>0.31577</td>\n",
       "      <td>0.000000</td>\n",
       "    </tr>\n",
       "  </tbody>\n",
       "</table>\n",
       "</div>"
      ],
      "text/plain": [
       "   corona_i  visitors_i    rest_i   trans_i  accom_i  outdoor_i\n",
       "0  0.561973    0.535179  0.072467  0.154472  0.27853   0.246234\n",
       "1  1.000000    0.689380  0.000879  0.195122  0.55268   0.000000\n",
       "2  0.450761    0.398645  0.058183  0.186992  0.36017   0.000000\n",
       "3  0.338809    0.259935  0.000000  0.463415  0.15575   0.000000\n",
       "4  0.373741    0.327115  0.103948  0.227642  0.31577   0.000000"
      ]
     },
     "execution_count": 82,
     "metadata": {},
     "output_type": "execute_result"
    }
   ],
   "source": [
    "index_sta.head()"
   ]
  },
  {
   "cell_type": "code",
   "execution_count": 85,
   "id": "f30d4f5a",
   "metadata": {},
   "outputs": [],
   "source": [
    "import seaborn"
   ]
  },
  {
   "cell_type": "code",
   "execution_count": 87,
   "id": "9e3829be",
   "metadata": {},
   "outputs": [
    {
     "data": {
      "text/plain": [
       "<AxesSubplot:xlabel='corona_i', ylabel='visitors_i'>"
      ]
     },
     "execution_count": 87,
     "metadata": {},
     "output_type": "execute_result"
    },
    {
     "data": {
      "image/png": "[encoded data removed]",
      "text/plain": [
       "<Figure size 432x288 with 1 Axes>"
      ]
     },
     "metadata": {
      "needs_background": "light"
     },
     "output_type": "display_data"
    }
   ],
   "source": [
    "seaborn.scatterplot(x= 'corona_i', y='visitors_i', data = index_sta)"
   ]
  },
  {
   "cell_type": "code",
   "execution_count": 88,
   "id": "b1376cab",
   "metadata": {},
   "outputs": [
    {
     "data": {
      "text/plain": [
       "<AxesSubplot:xlabel='rest_i', ylabel='trans_i'>"
      ]
     },
     "execution_count": 88,
     "metadata": {},
     "output_type": "execute_result"
    },
    {
     "data": {
      "image/png": "[encoded data removed]",
      "text/plain": [
       "<Figure size 432x288 with 1 Axes>"
      ]
     },
     "metadata": {
      "needs_background": "light"
     },
     "output_type": "display_data"
    }
   ],
   "source": [
    "seaborn.scatterplot(x= 'rest_i', y='trans_i', data = index_sta)"
   ]
  },
  {
   "cell_type": "code",
   "execution_count": 89,
   "id": "df2e455a",
   "metadata": {},
   "outputs": [
    {
     "data": {
      "text/plain": [
       "<AxesSubplot:xlabel='rest_i', ylabel='accom_i'>"
      ]
     },
     "execution_count": 89,
     "metadata": {},
     "output_type": "execute_result"
    },
    {
     "data": {
      "image/png": "[encoded data removed]",
      "text/plain": [
       "<Figure size 432x288 with 1 Axes>"
      ]
     },
     "metadata": {
      "needs_background": "light"
     },
     "output_type": "display_data"
    }
   ],
   "source": [
    "seaborn.scatterplot(x= 'rest_i', y='accom_i', data = index_sta)"
   ]
  },
  {
   "cell_type": "code",
   "execution_count": 90,
   "id": "67427b3e",
   "metadata": {},
   "outputs": [
    {
     "data": {
      "text/plain": [
       "<AxesSubplot:xlabel='trans_i', ylabel='accom_i'>"
      ]
     },
     "execution_count": 90,
     "metadata": {},
     "output_type": "execute_result"
    },
    {
     "data": {
      "image/png": "[encoded data removed]",
      "text/plain": [
       "<Figure size 432x288 with 1 Axes>"
      ]
     },
     "metadata": {
      "needs_background": "light"
     },
     "output_type": "display_data"
    }
   ],
   "source": [
    "seaborn.scatterplot(x= 'trans_i', y='accom_i', data = index_sta)"
   ]
  },
  {
   "cell_type": "code",
   "execution_count": 91,
   "id": "4f1d996b",
   "metadata": {},
   "outputs": [
    {
     "data": {
      "text/plain": [
       "<AxesSubplot:xlabel='visitors_i', ylabel='outdoor_i'>"
      ]
     },
     "execution_count": 91,
     "metadata": {},
     "output_type": "execute_result"
    },
    {
     "data": {
      "image/png": "[encoded data removed]",
      "text/plain": [
       "<Figure size 432x288 with 1 Axes>"
      ]
     },
     "metadata": {
      "needs_background": "light"
     },
     "output_type": "display_data"
    }
   ],
   "source": [
    "seaborn.scatterplot(x= 'visitors_i', y='outdoor_i', data = index_sta)"
   ]
  },
  {
   "cell_type": "code",
   "execution_count": 93,
   "id": "99f5a9b0",
   "metadata": {},
   "outputs": [],
   "source": [
    "from sklearn.decomposition import PCA"
   ]
  },
  {
   "cell_type": "code",
   "execution_count": 95,
   "id": "9e19d996",
   "metadata": {},
   "outputs": [
    {
     "data": {
      "text/plain": [
       "array([[ 3.96668751e-01,  3.37606060e-01],\n",
       "       [ 7.43997472e-01,  7.27219096e-01],\n",
       "       [ 3.35779317e-01,  3.03094406e-01],\n",
       "       [ 1.34510636e-01,  3.20138774e-01],\n",
       "       [ 2.55168477e-01,  2.33997164e-01],\n",
       "       [ 6.96561312e-02,  2.63258921e-01],\n",
       "       [-2.93998738e-02,  2.08230359e-01],\n",
       "       [ 4.10205709e-02,  1.44136355e-01],\n",
       "       [ 5.18206710e-03,  5.61717386e-03],\n",
       "       [ 9.50224396e-02,  1.69978004e-02],\n",
       "       [-4.25599123e-02,  1.51270552e-01],\n",
       "       [ 2.43756509e-01, -7.88701448e-04],\n",
       "       [ 6.66716554e-02,  1.89611800e-01],\n",
       "       [ 3.87342471e-01,  1.95364677e-01],\n",
       "       [ 3.39152243e-02,  2.14343237e-01],\n",
       "       [ 3.30088176e-01,  1.77177408e-01],\n",
       "       [ 6.68927188e-02,  2.42504131e-01],\n",
       "       [ 1.20355737e-01,  1.10326322e-01],\n",
       "       [ 2.02096869e-01,  3.34256185e-01],\n",
       "       [ 7.88766487e-02,  1.95085774e-01],\n",
       "       [ 6.24316956e-02,  1.83665769e-01],\n",
       "       [ 5.50716750e-01,  2.95014970e-01],\n",
       "       [ 9.24966862e-01,  1.89729155e-01],\n",
       "       [ 3.97227241e-01,  1.50716837e-01],\n",
       "       [-1.07124164e-02,  1.98893971e-01],\n",
       "       [ 1.96582429e-01,  3.36981376e-01],\n",
       "       [-3.40211224e-02,  1.35699425e-01],\n",
       "       [-2.51627266e-02,  1.48000291e-01],\n",
       "       [-1.27228939e-01,  7.17992782e-04],\n",
       "       [-4.17378447e-02,  6.35410300e-02],\n",
       "       [-1.34887656e-01,  5.04960552e-02],\n",
       "       [-8.28882362e-02,  2.03696467e-03],\n",
       "       [-1.44559702e-01,  1.26232755e-02],\n",
       "       [ 1.53410132e-01, -3.64146511e-02],\n",
       "       [-1.34712401e-01, -2.04089689e-02],\n",
       "       [-1.58462320e-01,  1.50984376e-02],\n",
       "       [-2.08916711e-01, -1.57253564e-03],\n",
       "       [-4.22620174e-02,  5.85898850e-02],\n",
       "       [ 3.70258859e-01, -7.37662655e-02],\n",
       "       [-1.46243246e-01,  3.43895321e-02],\n",
       "       [ 3.11450275e-01, -1.72681479e-01],\n",
       "       [ 1.31293023e-01,  3.16038429e-01],\n",
       "       [-2.16835337e-02, -2.33816565e-02],\n",
       "       [-1.25522714e-01,  1.86820934e-01],\n",
       "       [-3.35198787e-03,  3.24154752e-01],\n",
       "       [-1.54757600e-01,  4.70405131e-02],\n",
       "       [ 9.96696591e-03,  2.92741247e-03],\n",
       "       [-1.04525882e-01,  7.48697718e-02],\n",
       "       [-9.34301989e-02,  3.15443626e-02],\n",
       "       [ 3.11638319e-01, -1.02535992e-01],\n",
       "       [-1.98896719e-01,  8.58050713e-03],\n",
       "       [-7.34346712e-02,  7.77114823e-02],\n",
       "       [ 1.07522510e-01, -8.25334310e-02],\n",
       "       [-1.43060064e-01,  7.37496204e-02],\n",
       "       [ 3.53999604e-02,  5.35731586e-02],\n",
       "       [ 3.03353583e-02, -7.67160177e-02],\n",
       "       [-1.49629786e-01,  7.47084643e-02],\n",
       "       [ 2.19901500e-01,  1.58142296e-02],\n",
       "       [-7.84951328e-02, -1.17348678e-02],\n",
       "       [-2.29135597e-02, -7.45531800e-02],\n",
       "       [-8.54508588e-02,  2.74794344e-02],\n",
       "       [-2.16247258e-01, -3.10585933e-02],\n",
       "       [-1.47322170e-01, -6.21446140e-02],\n",
       "       [-1.14619288e-01,  8.21231545e-02],\n",
       "       [-1.32927415e-01,  7.14588411e-02],\n",
       "       [-1.11739934e-01,  1.52435270e-01],\n",
       "       [-2.95979750e-02,  1.62086093e-01],\n",
       "       [ 8.43614516e-02,  6.14970838e-02],\n",
       "       [-1.77742706e-01,  4.66822385e-02],\n",
       "       [-1.43742217e-01,  6.85628940e-02],\n",
       "       [-6.98711295e-02,  1.00228546e-01],\n",
       "       [-1.38571577e-01,  2.33844044e-02],\n",
       "       [-1.18709707e-01,  2.83411746e-02],\n",
       "       [-9.88969420e-02, -5.04465572e-02],\n",
       "       [-1.85265589e-01, -2.08039873e-02],\n",
       "       [ 5.56112992e-02,  1.47345410e-01],\n",
       "       [ 4.41916992e-03,  2.44935308e-01],\n",
       "       [-7.64955739e-02,  8.16116441e-02],\n",
       "       [-3.34029926e-02,  1.35922866e-01],\n",
       "       [-5.28997694e-02,  1.31659407e-01],\n",
       "       [-6.84100000e-03,  1.32570546e-01],\n",
       "       [-2.38102240e-02,  1.37786423e-01],\n",
       "       [-1.24012003e-01,  1.87841227e-01],\n",
       "       [-1.56163320e-03,  1.77396138e-01],\n",
       "       [-3.71428765e-02,  1.88641160e-01],\n",
       "       [-1.61589861e-01,  3.19088673e-02],\n",
       "       [-5.16555547e-02,  2.42402946e-01],\n",
       "       [ 5.75550600e-03,  1.25728297e-01],\n",
       "       [-1.47716397e-01,  6.61720934e-02],\n",
       "       [-2.56050592e-02,  5.77679882e-02],\n",
       "       [-1.20365455e-01,  9.54375314e-02],\n",
       "       [-1.22843272e-01,  8.90891892e-02],\n",
       "       [-4.91649637e-02,  7.35841799e-02],\n",
       "       [ 9.25447085e-02,  6.58363407e-02],\n",
       "       [-4.30208497e-02,  6.73250761e-02],\n",
       "       [-2.40419831e-02,  2.18583961e-01],\n",
       "       [-8.08286068e-02,  6.68128525e-02],\n",
       "       [ 2.00760719e-01,  9.29527055e-02],\n",
       "       [ 4.17731413e-01, -2.15139329e-01],\n",
       "       [-1.67531530e-02,  1.38476099e-01],\n",
       "       [-8.04131350e-02,  7.56632269e-02],\n",
       "       [-2.33093386e-02,  1.04605056e-01],\n",
       "       [ 4.84083150e-02,  1.98285508e-01],\n",
       "       [-1.12945087e-01,  1.36306236e-01],\n",
       "       [ 8.47694280e-02,  5.54961416e-02],\n",
       "       [ 1.45670951e-01,  2.18441030e-01],\n",
       "       [-1.03892385e-01, -5.00635790e-02],\n",
       "       [-6.65050804e-02, -5.29627081e-02],\n",
       "       [ 1.76917001e-02,  5.86677180e-02],\n",
       "       [-1.82251732e-02,  9.53756454e-03],\n",
       "       [-7.66684151e-02, -1.20628808e-01],\n",
       "       [ 1.74276295e-01, -1.30978756e-01],\n",
       "       [-9.40428208e-02, -1.27930718e-01],\n",
       "       [ 4.03967937e-01, -1.26521130e-01],\n",
       "       [ 1.41614553e-01, -1.32457497e-01],\n",
       "       [-4.86362170e-02, -5.96280464e-02],\n",
       "       [ 3.52209652e-01, -1.22112027e-01],\n",
       "       [ 2.76528387e-02, -9.47460854e-02],\n",
       "       [-3.74691129e-02,  8.43356046e-03],\n",
       "       [-1.18577419e-01,  9.20938741e-03],\n",
       "       [-8.76099189e-02, -3.34614207e-02],\n",
       "       [-2.50981606e-02, -9.71140938e-02],\n",
       "       [ 2.83539254e-01, -1.74028417e-01],\n",
       "       [ 1.00368373e-01,  9.81888873e-02],\n",
       "       [-6.29064591e-02,  5.54557007e-03],\n",
       "       [ 1.34743820e-01, -1.01372713e-01],\n",
       "       [-8.57661889e-02,  1.26338532e-01],\n",
       "       [-1.97522391e-01, -8.95247096e-02],\n",
       "       [-1.49169573e-01, -5.10644560e-02],\n",
       "       [-2.12711349e-01, -1.79044106e-02],\n",
       "       [-1.19437641e-01,  1.52412678e-01],\n",
       "       [-1.76565849e-01, -3.15564737e-02],\n",
       "       [-4.31086177e-02,  1.21620560e-01],\n",
       "       [ 1.01228371e-01, -2.07787527e-01],\n",
       "       [-1.49160661e-01, -3.47976733e-02],\n",
       "       [-1.20337930e-01,  5.87986252e-02],\n",
       "       [-1.73825281e-02, -5.83166974e-02],\n",
       "       [ 1.39678792e-01, -1.47826150e-01],\n",
       "       [-1.48545031e-01,  3.17222870e-02],\n",
       "       [-1.71931758e-01,  1.20524868e-02],\n",
       "       [-1.00821511e-01,  4.21211159e-02],\n",
       "       [-2.02494124e-01, -1.32945971e-01],\n",
       "       [-1.66102715e-01, -5.82883441e-03],\n",
       "       [-1.59490543e-01,  5.47922431e-02],\n",
       "       [-8.49967632e-02,  4.77006413e-02],\n",
       "       [-1.91603349e-01, -5.50028408e-02],\n",
       "       [-1.74789734e-02, -6.95143276e-02],\n",
       "       [-1.33200600e-01, -5.71129578e-02],\n",
       "       [-1.34564510e-01, -5.11376291e-02],\n",
       "       [ 1.45589679e-01, -3.20334463e-01],\n",
       "       [-1.00863816e-01, -9.14062392e-03],\n",
       "       [-1.47506752e-01, -4.96250100e-02],\n",
       "       [-1.82721983e-01,  2.18784175e-03],\n",
       "       [-1.53103866e-01, -7.81285470e-02],\n",
       "       [ 1.64412945e-02, -1.52759136e-01],\n",
       "       [-2.13153544e-01, -5.83719274e-02],\n",
       "       [-1.98040742e-01, -1.19249694e-01],\n",
       "       [-1.54159496e-01,  1.89757342e-02],\n",
       "       [ 2.78761779e-01, -2.93434988e-01],\n",
       "       [-1.95015820e-01, -2.06172554e-02],\n",
       "       [-2.03132321e-01, -2.45281585e-02],\n",
       "       [-9.83686706e-02,  1.38462177e-01],\n",
       "       [-1.70285029e-01, -6.45859812e-02],\n",
       "       [ 8.80274948e-02, -2.05278830e-01],\n",
       "       [-1.69039714e-01, -4.04532934e-02],\n",
       "       [ 4.05862178e-01, -3.94538394e-01],\n",
       "       [ 1.40899016e-01, -1.24442776e-01],\n",
       "       [-1.73836240e-02, -1.12463499e-01],\n",
       "       [-1.87007785e-01, -4.19317953e-02],\n",
       "       [-8.77320198e-02, -8.76579215e-02],\n",
       "       [-1.29249977e-01, -6.75370767e-02],\n",
       "       [ 9.10733266e-02, -2.12061306e-01],\n",
       "       [ 7.21057763e-02, -1.95470845e-01],\n",
       "       [ 5.76731684e-01, -3.36922727e-01],\n",
       "       [-2.49640734e-02, -7.52397302e-02],\n",
       "       [-5.82878854e-02, -1.48020720e-01],\n",
       "       [-4.11893649e-04, -2.10307223e-01],\n",
       "       [ 4.12996409e-02, -1.90612964e-01],\n",
       "       [ 6.66552514e-03, -1.89800390e-01],\n",
       "       [ 4.39336546e-02, -1.41084319e-01],\n",
       "       [ 1.21976716e-01, -2.37914437e-01],\n",
       "       [-7.81603654e-02, -1.45836606e-01],\n",
       "       [-9.75134486e-02, -1.25128325e-01],\n",
       "       [ 1.75465244e-01, -4.90597773e-01],\n",
       "       [ 2.77678992e-01, -5.72306220e-01],\n",
       "       [ 5.22166167e-01, -8.94146502e-02],\n",
       "       [-9.73488248e-02, -9.82923244e-02],\n",
       "       [ 1.45528112e-01, -2.44628597e-01],\n",
       "       [-2.50015753e-01, -1.73049523e-01],\n",
       "       [-1.16847351e-01, -2.35165353e-02],\n",
       "       [-2.05780123e-01, -1.04952511e-01],\n",
       "       [-9.81137003e-02, -1.23225166e-01],\n",
       "       [-1.83421217e-01, -2.93253219e-02],\n",
       "       [-1.51282666e-01, -9.61712424e-02],\n",
       "       [ 5.35860713e-02, -1.93403174e-01],\n",
       "       [-1.20739440e-01,  1.14039225e-01],\n",
       "       [-9.83430753e-02, -2.40190096e-01],\n",
       "       [-1.26322881e-01,  1.66745010e-02],\n",
       "       [-9.68402763e-03, -1.40744432e-01],\n",
       "       [-2.39539597e-01, -8.35659121e-02],\n",
       "       [ 2.56194798e-02, -1.32224219e-01],\n",
       "       [-1.96413204e-02,  6.00808256e-02],\n",
       "       [-2.82025779e-01, -2.03650932e-01],\n",
       "       [-1.58382575e-01, -8.57187716e-02],\n",
       "       [-1.56889883e-01, -4.69844352e-02],\n",
       "       [-2.84886682e-01, -2.23082875e-01],\n",
       "       [-9.45759780e-02, -5.75998210e-02],\n",
       "       [-1.08649071e-01, -9.33375075e-02],\n",
       "       [ 1.67084901e-01, -1.50074165e-01],\n",
       "       [-1.65911690e-01,  5.41493573e-02],\n",
       "       [ 5.73574740e-01, -5.33918411e-01],\n",
       "       [-9.80499331e-02, -2.07119736e-02],\n",
       "       [-1.68480397e-01,  6.53615109e-03],\n",
       "       [-5.95059168e-02, -5.18125577e-02],\n",
       "       [ 4.06104268e-01, -2.55456323e-01],\n",
       "       [-1.24225287e-01, -1.83621416e-02],\n",
       "       [-1.04478417e-01,  6.89145082e-02],\n",
       "       [-1.39238790e-01, -6.46738816e-02],\n",
       "       [-2.14119731e-01, -1.88828827e-02],\n",
       "       [-4.25965340e-02, -6.40611860e-03],\n",
       "       [-1.59498664e-01, -4.93563103e-02],\n",
       "       [ 4.44457133e-01, -1.60618879e-01],\n",
       "       [-1.12795264e-01, -9.36114421e-02],\n",
       "       [ 1.95638326e-01, -1.98166427e-01],\n",
       "       [-5.47884199e-02, -8.24377958e-02],\n",
       "       [-1.40809931e-01, -5.57449549e-02],\n",
       "       [-1.28964298e-01, -6.23596267e-02],\n",
       "       [ 4.22094953e-01, -4.05602575e-02],\n",
       "       [ 5.49185890e-01, -8.83689314e-02]])"
      ]
     },
     "execution_count": 95,
     "metadata": {},
     "output_type": "execute_result"
    }
   ],
   "source": [
    "pca = PCA(n_components = 2)\n",
    "pca.fit(index_sta)\n",
    "z = pca.transform(index_sta)\n",
    "z"
   ]
  },
  {
   "cell_type": "code",
   "execution_count": 96,
   "id": "6d0da421",
   "metadata": {},
   "outputs": [
    {
     "data": {
      "text/plain": [
       "PCA(n_components=2)"
      ]
     },
     "execution_count": 96,
     "metadata": {},
     "output_type": "execute_result"
    }
   ],
   "source": [
    "pca.fit(index_sta)"
   ]
  },
  {
   "cell_type": "code",
   "execution_count": 97,
   "id": "80ef212f",
   "metadata": {},
   "outputs": [
    {
     "data": {
      "text/plain": [
       "<AxesSubplot:>"
      ]
     },
     "execution_count": 97,
     "metadata": {},
     "output_type": "execute_result"
    },
    {
     "data": {
      "image/png": "[encoded data removed]",
      "text/plain": [
       "<Figure size 432x288 with 1 Axes>"
      ]
     },
     "metadata": {
      "needs_background": "light"
     },
     "output_type": "display_data"
    }
   ],
   "source": [
    "seaborn.scatterplot(\n",
    "x = z[:, 0],\n",
    "y = z[:, 1])"
   ]
  },
  {
   "cell_type": "code",
   "execution_count": 98,
   "id": "6f86478f",
   "metadata": {},
   "outputs": [
    {
     "data": {
      "text/plain": [
       "array([[ 0.24702036,  0.34983432, -0.11056385,  0.15139098,  0.84810629,\n",
       "         0.24933715],\n",
       "       [ 0.61831864,  0.43040503, -0.30606197,  0.23296803, -0.3119167 ,\n",
       "        -0.43265865]])"
      ]
     },
     "execution_count": 98,
     "metadata": {},
     "output_type": "execute_result"
    }
   ],
   "source": [
    "pca.components_"
   ]
  },
  {
   "cell_type": "code",
   "execution_count": 99,
   "id": "f5740fca",
   "metadata": {},
   "outputs": [
    {
     "data": {
      "text/plain": [
       "array([0.3367935 , 0.22239028])"
      ]
     },
     "execution_count": 99,
     "metadata": {},
     "output_type": "execute_result"
    }
   ],
   "source": [
    "pca.explained_variance_ratio_"
   ]
  },
  {
   "cell_type": "code",
   "execution_count": 100,
   "id": "9c57a7a1",
   "metadata": {},
   "outputs": [],
   "source": [
    "import matplotlib.pyplot as plt"
   ]
  },
  {
   "cell_type": "code",
   "execution_count": 102,
   "id": "7cb703d1",
   "metadata": {},
   "outputs": [
    {
     "data": {
      "text/plain": [
       "[<matplotlib.lines.Line2D at 0x27e85924fa0>]"
      ]
     },
     "execution_count": 102,
     "metadata": {},
     "output_type": "execute_result"
    },
    {
     "data": {
      "image/png": "[encoded data removed]",
      "text/plain": [
       "<Figure size 432x288 with 1 Axes>"
      ]
     },
     "metadata": {
      "needs_background": "light"
     },
     "output_type": "display_data"
    }
   ],
   "source": [
    "plt.plot(pca.explained_variance_ratio_)"
   ]
  },
  {
   "cell_type": "code",
   "execution_count": null,
   "id": "e8cd6540",
   "metadata": {},
   "outputs": [],
   "source": []
  },
  {
   "cell_type": "code",
   "execution_count": null,
   "id": "42b3599b",
   "metadata": {},
   "outputs": [],
   "source": []
  },
  {
   "cell_type": "code",
   "execution_count": null,
   "id": "791b11b1",
   "metadata": {},
   "outputs": [],
   "source": []
  },
  {
   "cell_type": "code",
   "execution_count": null,
   "id": "389d0e46",
   "metadata": {},
   "outputs": [],
   "source": []
  },
  {
   "cell_type": "code",
   "execution_count": null,
   "id": "a1baba60",
   "metadata": {},
   "outputs": [],
   "source": []
  },
  {
   "cell_type": "code",
   "execution_count": null,
   "id": "5e21cbb6",
   "metadata": {},
   "outputs": [],
   "source": []
  }
 ],
 "metadata": {
  "kernelspec": {
   "display_name": "Python 3",
   "language": "python",
   "name": "python3"
  },
  "language_info": {
   "codemirror_mode": {
    "name": "ipython",
    "version": 3
   },
   "file_extension": ".py",
   "mimetype": "text/x-python",
   "name": "python",
   "nbconvert_exporter": "python",
   "pygments_lexer": "ipython3",
   "version": "3.8.8"
  },
  "toc": {
   "base_numbering": 1,
   "nav_menu": {},
   "number_sections": true,
   "sideBar": true,
   "skip_h1_title": false,
   "title_cell": "Table of Contents",
   "title_sidebar": "Contents",
   "toc_cell": false,
   "toc_position": {},
   "toc_section_display": true,
   "toc_window_display": false
  }
 },
 "nbformat": 4,
 "nbformat_minor": 5
}
